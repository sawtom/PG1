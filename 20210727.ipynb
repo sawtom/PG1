{
 "cells": [
  {
   "cell_type": "code",
   "execution_count": 2,
   "metadata": {},
   "outputs": [],
   "source": [
    "#何もしない関数#\n",
    "def my_func():\n",
    "    pass"
   ]
  },
  {
   "cell_type": "code",
   "execution_count": 3,
   "metadata": {},
   "outputs": [],
   "source": [
    "#引数追加#\n",
    "def my_func(x):\n",
    "    pass"
   ]
  },
  {
   "cell_type": "code",
   "execution_count": 15,
   "metadata": {},
   "outputs": [],
   "source": [
    "#二倍にして戻り値#\n",
    "x=10\n",
    "def my_func2(x):\n",
    "    return x * 2"
   ]
  },
  {
   "cell_type": "code",
   "execution_count": 17,
   "metadata": {},
   "outputs": [
    {
     "name": "stdout",
     "output_type": "stream",
     "text": [
      "20\n"
     ]
    }
   ],
   "source": [
    "#二倍にして戻り値出力#\n",
    "x=10\n",
    "def my_func2(x):\n",
    "    return x * 2\n",
    "\n",
    "print (my_func2(x))"
   ]
  },
  {
   "cell_type": "code",
   "execution_count": 27,
   "metadata": {},
   "outputs": [
    {
     "name": "stdout",
     "output_type": "stream",
     "text": [
      "false\n"
     ]
    }
   ],
   "source": [
    "#偶数ならtrue奇数ならfalse#\n",
    "x=10\n",
    "def my_func2(x):\n",
    "    return x * 2\n",
    "\n",
    "if x % 2 == 0:\n",
    "    print ('true')\n",
    "else:\n",
    "    print('false')"
   ]
  },
  {
   "cell_type": "code",
   "execution_count": 30,
   "metadata": {},
   "outputs": [
    {
     "name": "stdout",
     "output_type": "stream",
     "text": [
      "3\n"
     ]
    }
   ],
   "source": [
    "#引数を合計して返す。出力#\n",
    "a = 1\n",
    "b = 1\n",
    "c = 1\n",
    "def my_func3(a,b,c):\n",
    "    return a + b + c\n",
    "\n",
    "print(my_func3(a,b,c))"
   ]
  },
  {
   "cell_type": "code",
   "execution_count": 31,
   "metadata": {},
   "outputs": [
    {
     "name": "stdout",
     "output_type": "stream",
     "text": [
      "false\n"
     ]
    }
   ],
   "source": [
    "#奇数ならfalse 偶数ならtrue#\n",
    "a = 1\n",
    "b = 1\n",
    "c = 1\n",
    "def my_func3(a,b,c):\n",
    "    return a + b + c\n",
    "\n",
    "if my_func3(a,b,c) % 2 == 0:\n",
    "    print ('true')\n",
    "else:\n",
    "    print('false')"
   ]
  },
  {
   "cell_type": "code",
   "execution_count": 33,
   "metadata": {},
   "outputs": [
    {
     "name": "stdout",
     "output_type": "stream",
     "text": [
      "true\n"
     ]
    }
   ],
   "source": [
    "#引数1を偶数奇数判定　func4#\n",
    "x=10\n",
    "def my_func4(x):\n",
    "    return x * 2\n",
    "if my_func4(x) % 2 == 0:\n",
    "    print ('true')\n",
    "else:\n",
    "    print('false')"
   ]
  },
  {
   "cell_type": "code",
   "execution_count": null,
   "metadata": {},
   "outputs": [],
   "source": []
  }
 ],
 "metadata": {
  "kernelspec": {
   "display_name": "Python 3",
   "language": "python",
   "name": "python3"
  },
  "language_info": {
   "codemirror_mode": {
    "name": "ipython",
    "version": 3
   },
   "file_extension": ".py",
   "mimetype": "text/x-python",
   "name": "python",
   "nbconvert_exporter": "python",
   "pygments_lexer": "ipython3",
   "version": "3.8.5"
  }
 },
 "nbformat": 4,
 "nbformat_minor": 4
}
